{
 "cells": [
  {
   "cell_type": "code",
   "execution_count": 12,
   "metadata": {},
   "outputs": [],
   "source": [
    "import pandas as pd\n",
    "df=pd.read_csv(\"airlines.csv\")"
   ]
  },
  {
   "cell_type": "code",
   "execution_count": 13,
   "metadata": {},
   "outputs": [
    {
     "name": "stdout",
     "output_type": "stream",
     "text": [
      "     AirportCode                                        AirportName  TimeYear  \\\n",
      "0            ATL  Atlanta, GA: Hartsfield-Jackson Atlanta Intern...      2003   \n",
      "1            BOS                    Boston, MA: Logan International      2003   \n",
      "2            BWI  Baltimore, MD: Baltimore/Washington Internatio...      2003   \n",
      "3            CLT     Charlotte, NC: Charlotte Douglas International      2003   \n",
      "4            DCA  Washington, DC: Ronald Reagan Washington National      2003   \n",
      "...          ...                                                ...       ...   \n",
      "4329         ORD          Chicago, IL: Chicago O'Hare International      2015   \n",
      "4330         ATL  Atlanta, GA: Hartsfield-Jackson Atlanta Intern...      2003   \n",
      "4331         ATL  Atlanta, GA: Hartsfield-Jackson Atlanta Intern...      2003   \n",
      "4332         ATL  Atlanta, GA: Hartsfield-Jackson Atlanta Intern...      2003   \n",
      "4333         ATL  Atlanta, GA: Hartsfield-Jackson Atlanta Intern...      2003   \n",
      "\n",
      "      StatisticsFlightsCancelled  \n",
      "0                            216  \n",
      "1                            138  \n",
      "2                             29  \n",
      "3                             73  \n",
      "4                             74  \n",
      "...                          ...  \n",
      "4329                         875  \n",
      "4330                         216  \n",
      "4331                         216  \n",
      "4332                         216  \n",
      "4333                         216  \n",
      "\n",
      "[4334 rows x 4 columns]\n"
     ]
    }
   ],
   "source": [
    "print(df)"
   ]
  },
  {
   "cell_type": "code",
   "execution_count": 14,
   "metadata": {},
   "outputs": [],
   "source": [
    "df=pd.DataFrame(df)"
   ]
  },
  {
   "cell_type": "code",
   "execution_count": 18,
   "metadata": {},
   "outputs": [],
   "source": [
    "name=df[\"AirportName\"].unique()"
   ]
  },
  {
   "cell_type": "code",
   "execution_count": 19,
   "metadata": {},
   "outputs": [
    {
     "data": {
      "text/plain": [
       "array(['Atlanta, GA: Hartsfield-Jackson Atlanta International',\n",
       "       'Boston, MA: Logan International',\n",
       "       'Baltimore, MD: Baltimore/Washington International Thurgood Marshall',\n",
       "       'Charlotte, NC: Charlotte Douglas International',\n",
       "       'Washington, DC: Ronald Reagan Washington National',\n",
       "       'Denver, CO: Denver International',\n",
       "       'Dallas/Fort Worth, TX: Dallas/Fort Worth International',\n",
       "       'Detroit, MI: Detroit Metro Wayne County',\n",
       "       'Newark, NJ: Newark Liberty International',\n",
       "       'Fort Lauderdale, FL: Fort Lauderdale-Hollywood International',\n",
       "       'Washington, DC: Washington Dulles International',\n",
       "       'Houston, TX: George Bush Intercontinental/Houston',\n",
       "       'New York, NY: John F. Kennedy International',\n",
       "       'Las Vegas, NV: McCarran International',\n",
       "       'Los Angeles, CA: Los Angeles International',\n",
       "       'New York, NY: LaGuardia', 'Orlando, FL: Orlando International',\n",
       "       'Chicago, IL: Chicago Midway International',\n",
       "       'Miami, FL: Miami International',\n",
       "       'Minneapolis, MN: Minneapolis-St Paul International',\n",
       "       \"Chicago, IL: Chicago O'Hare International\",\n",
       "       'Portland, OR: Portland International',\n",
       "       'Philadelphia, PA: Philadelphia International',\n",
       "       'Phoenix, AZ: Phoenix Sky Harbor International',\n",
       "       'San Diego, CA: San Diego International',\n",
       "       'Seattle, WA: Seattle/Tacoma International',\n",
       "       'San Francisco, CA: San Francisco International',\n",
       "       'Salt Lake City, UT: Salt Lake City International',\n",
       "       'Tampa, FL: Tampa International'], dtype=object)"
      ]
     },
     "execution_count": 19,
     "metadata": {},
     "output_type": "execute_result"
    }
   ],
   "source": [
    "name"
   ]
  },
  {
   "cell_type": "code",
   "execution_count": 74,
   "metadata": {},
   "outputs": [],
   "source": [
    "name=pd.DataFrame(name)"
   ]
  },
  {
   "cell_type": "code",
   "execution_count": 90,
   "metadata": {},
   "outputs": [
    {
     "data": {
      "text/html": [
       "<div>\n",
       "<style scoped>\n",
       "    .dataframe tbody tr th:only-of-type {\n",
       "        vertical-align: middle;\n",
       "    }\n",
       "\n",
       "    .dataframe tbody tr th {\n",
       "        vertical-align: top;\n",
       "    }\n",
       "\n",
       "    .dataframe thead th {\n",
       "        text-align: right;\n",
       "    }\n",
       "</style>\n",
       "<table border=\"1\" class=\"dataframe\">\n",
       "  <thead>\n",
       "    <tr style=\"text-align: right;\">\n",
       "      <th></th>\n",
       "      <th>AirportCode</th>\n",
       "      <th>AirportName</th>\n",
       "      <th>TimeYear</th>\n",
       "      <th>StatisticsFlightsCancelled</th>\n",
       "    </tr>\n",
       "  </thead>\n",
       "  <tbody>\n",
       "    <tr>\n",
       "      <td>23</td>\n",
       "      <td>PHX</td>\n",
       "      <td>Phoenix, AZ: Phoenix Sky Harbor International</td>\n",
       "      <td>2003</td>\n",
       "      <td>57</td>\n",
       "    </tr>\n",
       "    <tr>\n",
       "      <td>52</td>\n",
       "      <td>PHX</td>\n",
       "      <td>Phoenix, AZ: Phoenix Sky Harbor International</td>\n",
       "      <td>2003</td>\n",
       "      <td>96</td>\n",
       "    </tr>\n",
       "    <tr>\n",
       "      <td>81</td>\n",
       "      <td>PHX</td>\n",
       "      <td>Phoenix, AZ: Phoenix Sky Harbor International</td>\n",
       "      <td>2003</td>\n",
       "      <td>117</td>\n",
       "    </tr>\n",
       "    <tr>\n",
       "      <td>110</td>\n",
       "      <td>PHX</td>\n",
       "      <td>Phoenix, AZ: Phoenix Sky Harbor International</td>\n",
       "      <td>2003</td>\n",
       "      <td>146</td>\n",
       "    </tr>\n",
       "    <tr>\n",
       "      <td>139</td>\n",
       "      <td>PHX</td>\n",
       "      <td>Phoenix, AZ: Phoenix Sky Harbor International</td>\n",
       "      <td>2003</td>\n",
       "      <td>187</td>\n",
       "    </tr>\n",
       "    <tr>\n",
       "      <td>...</td>\n",
       "      <td>...</td>\n",
       "      <td>...</td>\n",
       "      <td>...</td>\n",
       "      <td>...</td>\n",
       "    </tr>\n",
       "    <tr>\n",
       "      <td>3851</td>\n",
       "      <td>PHX</td>\n",
       "      <td>Phoenix, AZ: Phoenix Sky Harbor International</td>\n",
       "      <td>2014</td>\n",
       "      <td>147</td>\n",
       "    </tr>\n",
       "    <tr>\n",
       "      <td>3880</td>\n",
       "      <td>PHX</td>\n",
       "      <td>Phoenix, AZ: Phoenix Sky Harbor International</td>\n",
       "      <td>2014</td>\n",
       "      <td>178</td>\n",
       "    </tr>\n",
       "    <tr>\n",
       "      <td>3909</td>\n",
       "      <td>PHX</td>\n",
       "      <td>Phoenix, AZ: Phoenix Sky Harbor International</td>\n",
       "      <td>2014</td>\n",
       "      <td>104</td>\n",
       "    </tr>\n",
       "    <tr>\n",
       "      <td>3938</td>\n",
       "      <td>PHX</td>\n",
       "      <td>Phoenix, AZ: Phoenix Sky Harbor International</td>\n",
       "      <td>2014</td>\n",
       "      <td>100</td>\n",
       "    </tr>\n",
       "    <tr>\n",
       "      <td>3967</td>\n",
       "      <td>PHX</td>\n",
       "      <td>Phoenix, AZ: Phoenix Sky Harbor International</td>\n",
       "      <td>2014</td>\n",
       "      <td>78</td>\n",
       "    </tr>\n",
       "  </tbody>\n",
       "</table>\n",
       "<p>137 rows × 4 columns</p>\n",
       "</div>"
      ],
      "text/plain": [
       "     AirportCode                                    AirportName  TimeYear  \\\n",
       "23           PHX  Phoenix, AZ: Phoenix Sky Harbor International      2003   \n",
       "52           PHX  Phoenix, AZ: Phoenix Sky Harbor International      2003   \n",
       "81           PHX  Phoenix, AZ: Phoenix Sky Harbor International      2003   \n",
       "110          PHX  Phoenix, AZ: Phoenix Sky Harbor International      2003   \n",
       "139          PHX  Phoenix, AZ: Phoenix Sky Harbor International      2003   \n",
       "...          ...                                            ...       ...   \n",
       "3851         PHX  Phoenix, AZ: Phoenix Sky Harbor International      2014   \n",
       "3880         PHX  Phoenix, AZ: Phoenix Sky Harbor International      2014   \n",
       "3909         PHX  Phoenix, AZ: Phoenix Sky Harbor International      2014   \n",
       "3938         PHX  Phoenix, AZ: Phoenix Sky Harbor International      2014   \n",
       "3967         PHX  Phoenix, AZ: Phoenix Sky Harbor International      2014   \n",
       "\n",
       "      StatisticsFlightsCancelled  \n",
       "23                            57  \n",
       "52                            96  \n",
       "81                           117  \n",
       "110                          146  \n",
       "139                          187  \n",
       "...                          ...  \n",
       "3851                         147  \n",
       "3880                         178  \n",
       "3909                         104  \n",
       "3938                         100  \n",
       "3967                          78  \n",
       "\n",
       "[137 rows x 4 columns]"
      ]
     },
     "execution_count": 90,
     "metadata": {},
     "output_type": "execute_result"
    }
   ],
   "source": [
    "df[df[\"AirportName\"].str.contains(\"Phoenix, AZ: Phoenix Sky Harbor International\")]"
   ]
  },
  {
   "cell_type": "code",
   "execution_count": 187,
   "metadata": {},
   "outputs": [
    {
     "data": {
      "text/plain": [
       "154"
      ]
     },
     "execution_count": 187,
     "metadata": {},
     "output_type": "execute_result"
    }
   ],
   "source": [
    "a=len(df[df[\"AirportName\"].str.contains(\"Atlanta, GA: Hartsfield-Jackson Atlanta International\")])\n",
    "a\n"
   ]
  },
  {
   "cell_type": "code",
   "execution_count": 107,
   "metadata": {},
   "outputs": [
    {
     "data": {
      "text/plain": [
       "0     Atlanta, GA: Hartsfield-Jackson Atlanta Intern...\n",
       "1                       Boston, MA: Logan International\n",
       "2     Baltimore, MD: Baltimore/Washington Internatio...\n",
       "3        Charlotte, NC: Charlotte Douglas International\n",
       "4     Washington, DC: Ronald Reagan Washington National\n",
       "5                      Denver, CO: Denver International\n",
       "6     Dallas/Fort Worth, TX: Dallas/Fort Worth Inter...\n",
       "7               Detroit, MI: Detroit Metro Wayne County\n",
       "8              Newark, NJ: Newark Liberty International\n",
       "9     Fort Lauderdale, FL: Fort Lauderdale-Hollywood...\n",
       "10      Washington, DC: Washington Dulles International\n",
       "11    Houston, TX: George Bush Intercontinental/Houston\n",
       "12          New York, NY: John F. Kennedy International\n",
       "13                Las Vegas, NV: McCarran International\n",
       "14           Los Angeles, CA: Los Angeles International\n",
       "15                              New York, NY: LaGuardia\n",
       "16                   Orlando, FL: Orlando International\n",
       "17            Chicago, IL: Chicago Midway International\n",
       "18                       Miami, FL: Miami International\n",
       "19    Minneapolis, MN: Minneapolis-St Paul Internati...\n",
       "20            Chicago, IL: Chicago O'Hare International\n",
       "21                 Portland, OR: Portland International\n",
       "22         Philadelphia, PA: Philadelphia International\n",
       "23        Phoenix, AZ: Phoenix Sky Harbor International\n",
       "24               San Diego, CA: San Diego International\n",
       "25            Seattle, WA: Seattle/Tacoma International\n",
       "26       San Francisco, CA: San Francisco International\n",
       "27     Salt Lake City, UT: Salt Lake City International\n",
       "28                       Tampa, FL: Tampa International\n",
       "Name: 0, dtype: object"
      ]
     },
     "execution_count": 107,
     "metadata": {},
     "output_type": "execute_result"
    }
   ],
   "source": [
    "name[0]"
   ]
  },
  {
   "cell_type": "code",
   "execution_count": 214,
   "metadata": {},
   "outputs": [
    {
     "name": "stdout",
     "output_type": "stream",
     "text": [
      "Atlanta, GA: Hartsfield-Jackson Atlanta International : 154\n",
      "Boston, MA: Logan International : 150\n",
      "Baltimore, MD: Baltimore/Washington International Thurgood Marshall : 150\n",
      "Charlotte, NC: Charlotte Douglas International : 150\n",
      "Washington, DC: Ronald Reagan Washington National : 150\n",
      "Denver, CO: Denver International : 150\n",
      "Dallas/Fort Worth, TX: Dallas/Fort Worth International : 150\n",
      "Detroit, MI: Detroit Metro Wayne County : 150\n",
      "Newark, NJ: Newark Liberty International : 150\n",
      "Fort Lauderdale, FL: Fort Lauderdale-Hollywood International : 150\n",
      "Washington, DC: Washington Dulles International : 150\n",
      "Houston, TX: George Bush Intercontinental/Houston : 150\n",
      "New York, NY: John F. Kennedy International : 150\n",
      "Las Vegas, NV: McCarran International : 150\n",
      "Los Angeles, CA: Los Angeles International : 150\n",
      "New York, NY: LaGuardia : 150\n",
      "Orlando, FL: Orlando International : 150\n",
      "Chicago, IL: Chicago Midway International : 150\n",
      "Miami, FL: Miami International : 150\n",
      "Minneapolis, MN: Minneapolis-St Paul International : 150\n",
      "Chicago, IL: Chicago O'Hare International : 150\n",
      "Portland, OR: Portland International : 149\n",
      "Philadelphia, PA: Philadelphia International : 149\n",
      "Phoenix, AZ: Phoenix Sky Harbor International : 137\n",
      "San Diego, CA: San Diego International : 149\n",
      "Seattle, WA: Seattle/Tacoma International : 149\n",
      "San Francisco, CA: San Francisco International : 149\n",
      "Salt Lake City, UT: Salt Lake City International : 149\n",
      "Tampa, FL: Tampa International : 149\n"
     ]
    }
   ],
   "source": [
    "airport=[]\n",
    "count= []\n",
    "for i in name[0]:\n",
    "    count+=[len(df[df[\"AirportName\"].str.contains(i)])]\n",
    "    airport+=[[i,len(df[df[\"AirportName\"].str.contains(i)])]]\n",
    "    print(i,\":\",len(df[df[\"AirportName\"].str.contains(i)]))"
   ]
  },
  {
   "cell_type": "code",
   "execution_count": 215,
   "metadata": {},
   "outputs": [],
   "source": [
    "count.sort()"
   ]
  },
  {
   "cell_type": "code",
   "execution_count": 216,
   "metadata": {},
   "outputs": [
    {
     "data": {
      "text/plain": [
       "[137,\n",
       " 149,\n",
       " 149,\n",
       " 149,\n",
       " 149,\n",
       " 149,\n",
       " 149,\n",
       " 149,\n",
       " 150,\n",
       " 150,\n",
       " 150,\n",
       " 150,\n",
       " 150,\n",
       " 150,\n",
       " 150,\n",
       " 150,\n",
       " 150,\n",
       " 150,\n",
       " 150,\n",
       " 150,\n",
       " 150,\n",
       " 150,\n",
       " 150,\n",
       " 150,\n",
       " 150,\n",
       " 150,\n",
       " 150,\n",
       " 150,\n",
       " 154]"
      ]
     },
     "execution_count": 216,
     "metadata": {},
     "output_type": "execute_result"
    }
   ],
   "source": [
    "count"
   ]
  },
  {
   "cell_type": "code",
   "execution_count": 218,
   "metadata": {},
   "outputs": [
    {
     "ename": "IndexError",
     "evalue": "list index out of range",
     "output_type": "error",
     "traceback": [
      "\u001b[1;31m---------------------------------------------------------------------------\u001b[0m",
      "\u001b[1;31mIndexError\u001b[0m                                Traceback (most recent call last)",
      "\u001b[1;32m<ipython-input-218-028d9b8be6ba>\u001b[0m in \u001b[0;36m<module>\u001b[1;34m\u001b[0m\n\u001b[1;32m----> 1\u001b[1;33m \u001b[0mprint\u001b[0m\u001b[1;33m(\u001b[0m\u001b[1;34m\"least count of airport is\"\u001b[0m\u001b[1;33m,\u001b[0m\u001b[0mairport\u001b[0m\u001b[1;33m[\u001b[0m\u001b[1;36m46\u001b[0m\u001b[1;33m]\u001b[0m\u001b[1;33m,\u001b[0m\u001b[1;34m\"with count\"\u001b[0m\u001b[1;33m,\u001b[0m\u001b[0mairport\u001b[0m\u001b[1;33m[\u001b[0m\u001b[1;36m47\u001b[0m\u001b[1;33m]\u001b[0m\u001b[1;33m)\u001b[0m\u001b[1;33m\u001b[0m\u001b[1;33m\u001b[0m\u001b[0m\n\u001b[0m\u001b[0;32m      2\u001b[0m \u001b[0mprint\u001b[0m\u001b[1;33m(\u001b[0m\u001b[1;34m\"Maximum count of airport is\"\u001b[0m\u001b[1;33m,\u001b[0m\u001b[0mairport\u001b[0m\u001b[1;33m[\u001b[0m\u001b[1;36m0\u001b[0m\u001b[1;33m]\u001b[0m\u001b[1;33m,\u001b[0m\u001b[1;34m\"with count\"\u001b[0m\u001b[1;33m,\u001b[0m\u001b[0mairport\u001b[0m\u001b[1;33m[\u001b[0m\u001b[1;36m1\u001b[0m\u001b[1;33m]\u001b[0m\u001b[1;33m)\u001b[0m\u001b[1;33m\u001b[0m\u001b[1;33m\u001b[0m\u001b[0m\n",
      "\u001b[1;31mIndexError\u001b[0m: list index out of range"
     ]
    }
   ],
   "source": [
    "print(\"least count of airport is\",airport[46],\"with count\",airport[47])\n",
    "print(\"Maximum count of airport is\",airport[0],\"with count\",airport[1])"
   ]
  },
  {
   "cell_type": "code",
   "execution_count": 220,
   "metadata": {},
   "outputs": [],
   "source": [
    "AD = pd.DataFrame(airport, \n",
    "                  columns=['Name', 'count'])"
   ]
  },
  {
   "cell_type": "code",
   "execution_count": 222,
   "metadata": {},
   "outputs": [
    {
     "data": {
      "text/html": [
       "<div>\n",
       "<style scoped>\n",
       "    .dataframe tbody tr th:only-of-type {\n",
       "        vertical-align: middle;\n",
       "    }\n",
       "\n",
       "    .dataframe tbody tr th {\n",
       "        vertical-align: top;\n",
       "    }\n",
       "\n",
       "    .dataframe thead th {\n",
       "        text-align: right;\n",
       "    }\n",
       "</style>\n",
       "<table border=\"1\" class=\"dataframe\">\n",
       "  <thead>\n",
       "    <tr style=\"text-align: right;\">\n",
       "      <th></th>\n",
       "      <th>Name</th>\n",
       "      <th>count</th>\n",
       "    </tr>\n",
       "  </thead>\n",
       "  <tbody>\n",
       "    <tr>\n",
       "      <td>0</td>\n",
       "      <td>Atlanta, GA: Hartsfield-Jackson Atlanta Intern...</td>\n",
       "      <td>154</td>\n",
       "    </tr>\n",
       "    <tr>\n",
       "      <td>1</td>\n",
       "      <td>Boston, MA: Logan International</td>\n",
       "      <td>150</td>\n",
       "    </tr>\n",
       "    <tr>\n",
       "      <td>2</td>\n",
       "      <td>Baltimore, MD: Baltimore/Washington Internatio...</td>\n",
       "      <td>150</td>\n",
       "    </tr>\n",
       "    <tr>\n",
       "      <td>3</td>\n",
       "      <td>Charlotte, NC: Charlotte Douglas International</td>\n",
       "      <td>150</td>\n",
       "    </tr>\n",
       "    <tr>\n",
       "      <td>4</td>\n",
       "      <td>Washington, DC: Ronald Reagan Washington National</td>\n",
       "      <td>150</td>\n",
       "    </tr>\n",
       "    <tr>\n",
       "      <td>5</td>\n",
       "      <td>Denver, CO: Denver International</td>\n",
       "      <td>150</td>\n",
       "    </tr>\n",
       "    <tr>\n",
       "      <td>6</td>\n",
       "      <td>Dallas/Fort Worth, TX: Dallas/Fort Worth Inter...</td>\n",
       "      <td>150</td>\n",
       "    </tr>\n",
       "    <tr>\n",
       "      <td>7</td>\n",
       "      <td>Detroit, MI: Detroit Metro Wayne County</td>\n",
       "      <td>150</td>\n",
       "    </tr>\n",
       "    <tr>\n",
       "      <td>8</td>\n",
       "      <td>Newark, NJ: Newark Liberty International</td>\n",
       "      <td>150</td>\n",
       "    </tr>\n",
       "    <tr>\n",
       "      <td>9</td>\n",
       "      <td>Fort Lauderdale, FL: Fort Lauderdale-Hollywood...</td>\n",
       "      <td>150</td>\n",
       "    </tr>\n",
       "    <tr>\n",
       "      <td>10</td>\n",
       "      <td>Washington, DC: Washington Dulles International</td>\n",
       "      <td>150</td>\n",
       "    </tr>\n",
       "    <tr>\n",
       "      <td>11</td>\n",
       "      <td>Houston, TX: George Bush Intercontinental/Houston</td>\n",
       "      <td>150</td>\n",
       "    </tr>\n",
       "    <tr>\n",
       "      <td>12</td>\n",
       "      <td>New York, NY: John F. Kennedy International</td>\n",
       "      <td>150</td>\n",
       "    </tr>\n",
       "    <tr>\n",
       "      <td>13</td>\n",
       "      <td>Las Vegas, NV: McCarran International</td>\n",
       "      <td>150</td>\n",
       "    </tr>\n",
       "    <tr>\n",
       "      <td>14</td>\n",
       "      <td>Los Angeles, CA: Los Angeles International</td>\n",
       "      <td>150</td>\n",
       "    </tr>\n",
       "    <tr>\n",
       "      <td>15</td>\n",
       "      <td>New York, NY: LaGuardia</td>\n",
       "      <td>150</td>\n",
       "    </tr>\n",
       "    <tr>\n",
       "      <td>16</td>\n",
       "      <td>Orlando, FL: Orlando International</td>\n",
       "      <td>150</td>\n",
       "    </tr>\n",
       "    <tr>\n",
       "      <td>17</td>\n",
       "      <td>Chicago, IL: Chicago Midway International</td>\n",
       "      <td>150</td>\n",
       "    </tr>\n",
       "    <tr>\n",
       "      <td>18</td>\n",
       "      <td>Miami, FL: Miami International</td>\n",
       "      <td>150</td>\n",
       "    </tr>\n",
       "    <tr>\n",
       "      <td>19</td>\n",
       "      <td>Minneapolis, MN: Minneapolis-St Paul Internati...</td>\n",
       "      <td>150</td>\n",
       "    </tr>\n",
       "    <tr>\n",
       "      <td>20</td>\n",
       "      <td>Chicago, IL: Chicago O'Hare International</td>\n",
       "      <td>150</td>\n",
       "    </tr>\n",
       "    <tr>\n",
       "      <td>21</td>\n",
       "      <td>Portland, OR: Portland International</td>\n",
       "      <td>149</td>\n",
       "    </tr>\n",
       "    <tr>\n",
       "      <td>22</td>\n",
       "      <td>Philadelphia, PA: Philadelphia International</td>\n",
       "      <td>149</td>\n",
       "    </tr>\n",
       "    <tr>\n",
       "      <td>23</td>\n",
       "      <td>Phoenix, AZ: Phoenix Sky Harbor International</td>\n",
       "      <td>137</td>\n",
       "    </tr>\n",
       "    <tr>\n",
       "      <td>24</td>\n",
       "      <td>San Diego, CA: San Diego International</td>\n",
       "      <td>149</td>\n",
       "    </tr>\n",
       "    <tr>\n",
       "      <td>25</td>\n",
       "      <td>Seattle, WA: Seattle/Tacoma International</td>\n",
       "      <td>149</td>\n",
       "    </tr>\n",
       "    <tr>\n",
       "      <td>26</td>\n",
       "      <td>San Francisco, CA: San Francisco International</td>\n",
       "      <td>149</td>\n",
       "    </tr>\n",
       "    <tr>\n",
       "      <td>27</td>\n",
       "      <td>Salt Lake City, UT: Salt Lake City International</td>\n",
       "      <td>149</td>\n",
       "    </tr>\n",
       "    <tr>\n",
       "      <td>28</td>\n",
       "      <td>Tampa, FL: Tampa International</td>\n",
       "      <td>149</td>\n",
       "    </tr>\n",
       "  </tbody>\n",
       "</table>\n",
       "</div>"
      ],
      "text/plain": [
       "                                                 Name  count\n",
       "0   Atlanta, GA: Hartsfield-Jackson Atlanta Intern...    154\n",
       "1                     Boston, MA: Logan International    150\n",
       "2   Baltimore, MD: Baltimore/Washington Internatio...    150\n",
       "3      Charlotte, NC: Charlotte Douglas International    150\n",
       "4   Washington, DC: Ronald Reagan Washington National    150\n",
       "5                    Denver, CO: Denver International    150\n",
       "6   Dallas/Fort Worth, TX: Dallas/Fort Worth Inter...    150\n",
       "7             Detroit, MI: Detroit Metro Wayne County    150\n",
       "8            Newark, NJ: Newark Liberty International    150\n",
       "9   Fort Lauderdale, FL: Fort Lauderdale-Hollywood...    150\n",
       "10    Washington, DC: Washington Dulles International    150\n",
       "11  Houston, TX: George Bush Intercontinental/Houston    150\n",
       "12        New York, NY: John F. Kennedy International    150\n",
       "13              Las Vegas, NV: McCarran International    150\n",
       "14         Los Angeles, CA: Los Angeles International    150\n",
       "15                            New York, NY: LaGuardia    150\n",
       "16                 Orlando, FL: Orlando International    150\n",
       "17          Chicago, IL: Chicago Midway International    150\n",
       "18                     Miami, FL: Miami International    150\n",
       "19  Minneapolis, MN: Minneapolis-St Paul Internati...    150\n",
       "20          Chicago, IL: Chicago O'Hare International    150\n",
       "21               Portland, OR: Portland International    149\n",
       "22       Philadelphia, PA: Philadelphia International    149\n",
       "23      Phoenix, AZ: Phoenix Sky Harbor International    137\n",
       "24             San Diego, CA: San Diego International    149\n",
       "25          Seattle, WA: Seattle/Tacoma International    149\n",
       "26     San Francisco, CA: San Francisco International    149\n",
       "27   Salt Lake City, UT: Salt Lake City International    149\n",
       "28                     Tampa, FL: Tampa International    149"
      ]
     },
     "execution_count": 222,
     "metadata": {},
     "output_type": "execute_result"
    }
   ],
   "source": [
    "AD"
   ]
  },
  {
   "cell_type": "code",
   "execution_count": 226,
   "metadata": {},
   "outputs": [
    {
     "data": {
      "text/plain": [
       "154"
      ]
     },
     "execution_count": 226,
     "metadata": {},
     "output_type": "execute_result"
    }
   ],
   "source": [
    "AD[\"count\"].max()"
   ]
  },
  {
   "cell_type": "code",
   "execution_count": 231,
   "metadata": {},
   "outputs": [
    {
     "name": "stdout",
     "output_type": "stream",
     "text": [
      "Name     Washington, DC: Washington Dulles International\n",
      "count                                                154\n",
      "dtype: object\n"
     ]
    }
   ],
   "source": [
    "print(AD.max())"
   ]
  },
  {
   "cell_type": "code",
   "execution_count": 232,
   "metadata": {},
   "outputs": [
    {
     "name": "stdout",
     "output_type": "stream",
     "text": [
      "Name     Atlanta, GA: Hartsfield-Jackson Atlanta Intern...\n",
      "count                                                  137\n",
      "dtype: object\n"
     ]
    }
   ],
   "source": [
    "print(AD.min())"
   ]
  },
  {
   "cell_type": "code",
   "execution_count": null,
   "metadata": {},
   "outputs": [],
   "source": []
  },
  {
   "cell_type": "code",
   "execution_count": null,
   "metadata": {},
   "outputs": [],
   "source": []
  },
  {
   "cell_type": "code",
   "execution_count": null,
   "metadata": {},
   "outputs": [],
   "source": []
  }
 ],
 "metadata": {
  "kernelspec": {
   "display_name": "Python 3",
   "language": "python",
   "name": "python3"
  },
  "language_info": {
   "codemirror_mode": {
    "name": "ipython",
    "version": 3
   },
   "file_extension": ".py",
   "mimetype": "text/x-python",
   "name": "python",
   "nbconvert_exporter": "python",
   "pygments_lexer": "ipython3",
   "version": "3.7.4"
  }
 },
 "nbformat": 4,
 "nbformat_minor": 2
}
